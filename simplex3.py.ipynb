{
 "cells": [
  {
   "cell_type": "code",
   "execution_count": 5,
   "metadata": {
    "collapsed": false
   },
   "outputs": [],
   "source": [
    "import numpy as np"
   ]
  },
  {
   "cell_type": "code",
   "execution_count": 6,
   "metadata": {
    "collapsed": false
   },
   "outputs": [],
   "source": [
    "def simplex(A, B, C):\n",
    "    count = 0\n",
    "    z = 0\n",
    "    e = 0\n",
    "    L = [4,5,6,7]\n",
    "    while(True):\n",
    "        \n",
    "        #选出C中的负数的最大值cmax，以及最大负数对应的列e。\n",
    "        cmax = min(C)\n",
    "        c_i = np.argmin(C)\n",
    "        e = c_i\n",
    "        for i in range(A.shape[1]):\n",
    "            if i ==c_i:\n",
    "                continue\n",
    "            elif C[i] >= 0:\n",
    "                continue\n",
    "            elif C[i] >= cmax:\n",
    "                cmax = C[i]\n",
    "                e = i\n",
    "            else:\n",
    "                continue\n",
    "        \n",
    "        #先判断C的最小值是否非负，若非负数则表明最优解已经找到。\n",
    "        #选出e那列的B/A的值最小的那一行，记为l行\n",
    "        if  min(C)== 0:\n",
    "            print \"break in min[C] == 0\"\n",
    "            break\n",
    "        else:\n",
    "            mini = 100\n",
    "            #mini = B[0]/A[0][e]\n",
    "            l=0\n",
    "            for i in range( A.shape[0] ):\n",
    "                if A[i][e] == 0:\n",
    "                    continue\n",
    "                elif B[i] / A[i][e] < 0:\n",
    "                    continue\n",
    "                elif B[i] / A[i][e] < mini:\n",
    "                    mini = B[i] / A[i][e]\n",
    "                    l = i;\n",
    "                else:\n",
    "                    continue\n",
    "        \n",
    "            #对A, B的第l行变换\n",
    "            if A[l][e] ==0:\n",
    "                B[l] = B[l]\n",
    "            else:\n",
    "                B[l] = B[l] / A[l][e]\n",
    "            \n",
    "            for j in range(A.shape[1]):\n",
    "                if A[l][e] == 0:\n",
    "                    A[l][j] = A[l][j]\n",
    "                else:\n",
    "                    A[l][j] = A[l][j] / A[l][e];\n",
    "        \n",
    "            #对B及A剩下的行做变换\n",
    "            #注意这里要把A[i][e]存到一个临时变量a_ie，因为A{i}[e]在更新A[i][j]的时候会被更改。\n",
    "            for i in range(A.shape[0]):\n",
    "                if i == l:\n",
    "                    continue;\n",
    "                else:\n",
    "                    B[i] = B[i] - A[i][e]*B[l];\n",
    "                    a_ie=A[i][e]\n",
    "                    for j in range(A.shape[1]):\n",
    "                        A[i][j] = A[i][j] - a_ie*A[l][j];\n",
    "            \n",
    "            #对目标函数z,目标函数的参数C做变换(第一行作变换)\n",
    "            #注意此时也要把C[e]存到一个临时变量c_e，因为C[e]在更新C[j]的时候会被更改。\n",
    "            z = z - B[l]*C[e];\n",
    "            c_e = C[e]\n",
    "            for j in range(A.shape[1]):\n",
    "                C[j] = C[j] - c_e*A[l][j];\n",
    "            \n",
    "            #B的解，L向量代表最优解在B中的位置\n",
    "            L[l] = e\n",
    "            \n",
    "            \n",
    "            #对C的非负数的个数计数，如果非负数的个数为7，表明所有的C均大于等于0，意味着找到了最优解。\n",
    "            for j in range(A.shape[1]):\n",
    "                if C[j] >= 0:\n",
    "                    count+=1\n",
    "                else:\n",
    "                    continue\n",
    "            if count == A.shape[1]:\n",
    "                #print \"break in count == A.shape[1]\"\n",
    "                break\n",
    "            else:\n",
    "                count = 0\n",
    "    \n",
    "    #While循环结束，构造一下最优解X的表达式，L向量代表最优解在B中的位置\n",
    "    x2 = [0,0,0]\n",
    "    L = L + x2\n",
    "    X = [0]*7\n",
    "    for j in range(A.shape[0]): \n",
    "        X[L[j]]=B[j]\n",
    "    return A, B, C, X,z"
   ]
  },
  {
   "cell_type": "code",
   "execution_count": 7,
   "metadata": {
    "collapsed": false
   },
   "outputs": [
    {
     "name": "stdout",
     "output_type": "stream",
     "text": [
      "A= [[ 0  0  1  0  0 -2 -3]\n",
      " [ 0  1  0  0  0  1  2]\n",
      " [ 0  0  0 -1  1 -1 -1]\n",
      " [ 1  0  0  1  0  1  1]]\n",
      "B= [3, 1, 2, 0]\n",
      "C= [0, 0, 0, 1, 0, 3, 11]\n",
      "X= [0, 1, 3, 0, 2, 0, 0]\n",
      "z= 32\n"
     ]
    }
   ],
   "source": [
    "Q = np.array([[1,1,1],\n",
    "              [1,0,0],\n",
    "              [0,0,1],\n",
    "              [0,3,1]]);\n",
    "\n",
    "A = np.array([[1,1,1,1,0,0,0],\n",
    "              [1,0,0,0,1,0,0],\n",
    "              [0,0,1,0,0,1,0],\n",
    "              [0,3,1,0,0,0,1]]);\n",
    "B = [4,2,3,6];\n",
    "C = [-1,-14,-6,0,0,0,0];\n",
    "D = simplex(A, B, C);\n",
    "print \"A=\",D[0]\n",
    "print \"B=\",D[1]\n",
    "print \"C=\",D[2]\n",
    "print \"X=\",D[3]\n",
    "print \"z=\",D[4]"
   ]
  }
 ],
 "metadata": {
  "anaconda-cloud": {},
  "kernelspec": {
   "display_name": "Python [Root]",
   "language": "python",
   "name": "Python [Root]"
  },
  "language_info": {
   "codemirror_mode": {
    "name": "ipython",
    "version": 2
   },
   "file_extension": ".py",
   "mimetype": "text/x-python",
   "name": "python",
   "nbconvert_exporter": "python",
   "pygments_lexer": "ipython2",
   "version": "2.7.12"
  }
 },
 "nbformat": 4,
 "nbformat_minor": 0
}
